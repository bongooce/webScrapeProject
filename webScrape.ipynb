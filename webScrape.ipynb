{
 "cells": [
  {
   "cell_type": "code",
   "execution_count": 1,
   "id": "af4e1950",
   "metadata": {},
   "outputs": [],
   "source": [
    "import requests\n",
    "import pandas\n",
    "from bs4 import BeautifulSoup\n",
    "\n",
    "r = requests.get(\"https://pythonizing.github.io/data/real-estate/rock-springs-wy/LCWYROCKSPRINGS/\", headers={'User-agent': 'Mozilla/5.0 (X11; Ubuntu; Linux x86_64; rv:61.0) Gecko/20100101 Firefox/61.0'})\n",
    "c = r.content\n",
    "\n",
    "\n",
    "soup = BeautifulSoup(c, \"html.parser\")\n",
    "pageNum = soup.find_all(\"a\",{\"class\":\"Page\"})[-1].text\n",
    "\n",
    "l = []\n",
    "base_url = \"https://pythonizing.github.io/data/real-estate/rock-springs-wy/LCWYROCKSPRINGS/t=0&s=\"\n",
    "for page in range(0,int(pageNum)*10,10):\n",
    "    r = requests.get(base_url + str(page)+ \".html\", headers={'User-agent': 'Mozilla/5.0 (X11; Ubuntu; Linux x86_64; rv:61.0) Gecko/20100101 Firefox/61.0'})\n",
    "    c = r.content #return in html form\n",
    "    soup = BeautifulSoup(c, \"html.parser\") #returns as page source\n",
    "    all = soup.find_all(\"div\",{\"class\":\"propertyRow\"})\n",
    "    for row in all:\n",
    "        d = {}\n",
    "        d[\"Address\"] = row.find_all(\"span\",{\"class\":\"propAddressCollapse\"})[0].text\n",
    "        d[\"Location\"] = row.find_all(\"span\",{\"class\":\"propAddressCollapse\"})[1].text\n",
    "        try:\n",
    "            d[\"Area\"] = row.find(\"span\",{\"class\":\"infoSqFt\"}).find(\"b\").text\n",
    "        except:\n",
    "            d[\"Area\"] = None\n",
    "        try:\n",
    "            d[\"Beds\"] = row.find(\"span\",{\"class\":\"infoBed\"}).find(\"b\").text\n",
    "        except:\n",
    "            d[\"Beds\"] = None\n",
    "        try:\n",
    "            d[\"Full Baths\"] = row.find(\"span\",{\"class\":\"infoValueFullBath\"}).find(\"b\").text\n",
    "        except:\n",
    "            d[\"Full Baths\"] = None\n",
    "        try:\n",
    "            d[\"Half Baths\"] = row.find(\"span\",{\"class\":\"infoValueHalfBath\"}).find(\"b\").text\n",
    "        except:\n",
    "            d[\"Half Baths\"] = None\n",
    "        for column in row.find_all(\"div\",{\"class\":\"columnGroup\"}):\n",
    "            try:\n",
    "                if \"Lot Size\" in column.find(\"span\",{\"class\":\"featureGroup\"}).text:\n",
    "                    d[\"Lot Size\"] = column.find(\"span\",{\"class\":\"featureName\"}).text\n",
    "            except:\n",
    "                d[\"Lot Size\"] = None\n",
    "        d[\"Price\"] = row.find(\"h4\",{\"class\":\"propPrice\"}).text.replace(\"\\n\",\"\").replace(\" \",\"\")\n",
    "        l.append(d)\n",
    "\n",
    "df = pandas.DataFrame(l)\n",
    "df.to_csv(\"Output.csv\")"
   ]
  }
 ],
 "metadata": {
  "kernelspec": {
   "display_name": "Python 3 (ipykernel)",
   "language": "python",
   "name": "python3"
  },
  "language_info": {
   "codemirror_mode": {
    "name": "ipython",
    "version": 3
   },
   "file_extension": ".py",
   "mimetype": "text/x-python",
   "name": "python",
   "nbconvert_exporter": "python",
   "pygments_lexer": "ipython3",
   "version": "3.8.1"
  }
 },
 "nbformat": 4,
 "nbformat_minor": 5
}
